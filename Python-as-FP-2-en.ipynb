{
 "cells": [
  {
   "cell_type": "markdown",
   "metadata": {},
   "source": [
    "In the [first section](Python-as-FP-1-en.ipynb) we looked at numbers, truth values and strings.  Now let's move on to grouping data together by making lists.  In fact, we've already seen a special case of lists: strings are lists of characters.  But Python shows them differently, although it makes similar facilities available for both, such as getting the length of them.  To make a _literal_ list (one that is built into the program) you use square brackets.  Details like this are called \"syntax\" in computer science.  This particular piece of syntax is common to many programming languages."
   ]
  },
  {
   "cell_type": "code",
   "execution_count": null,
   "metadata": {
    "collapsed": true
   },
   "outputs": [],
   "source": [
    "[\"first\", \"second\", \"third\", 4, 12 * 3]"
   ]
  },
  {
   "cell_type": "markdown",
   "metadata": {},
   "source": [
    "The length of a list is the number of items in it; any strings in the list each count as a single item, regardless of how many characters they contain:"
   ]
  },
  {
   "cell_type": "code",
   "execution_count": null,
   "metadata": {
    "collapsed": true
   },
   "outputs": [],
   "source": [
    "len([\"first\", \"second\", \"third\", 4, 12 * 3])"
   ]
  },
  {
   "cell_type": "markdown",
   "metadata": {},
   "source": [
    "As we present more of the language, the examples will get a bit more complicated, so before we do that, we'll look at something that can be used to make them easier to read (although that's not its only use): we can put data into named holders, called _variables_.  So let's retry the example above, but using a named variable called `my_list`.  When you give python several operations on successive lines of input, it will do them one after the other.  (This is the first _procedural_ feature of the language that we'll see.)"
   ]
  },
  {
   "cell_type": "markdown",
   "metadata": {},
   "source": [
    "The syntax rules for variable names are that they must begin with a letter (or an underscore) and must be made entirely of letters, digits, and underscores.  Variable names with underscores at the start and end are special ones used by the internals of the Python system, so you shouldn't do that for your own variable names.  Upper and lower case letters are treated as different from each other in variable names."
   ]
  },
  {
   "cell_type": "code",
   "execution_count": null,
   "metadata": {
    "collapsed": true
   },
   "outputs": [],
   "source": [
    "my_list = [\"first\", \"second\", \"third\", 4, 12 * 3]\n",
    "len(my_list)"
   ]
  },
  {
   "cell_type": "markdown",
   "metadata": {},
   "source": [
    "We've seen the function `str`, to convert any other type of value into a string.  Now let's try constructing a list made of the string equivalents of all the elements of another list."
   ]
  },
  {
   "cell_type": "code",
   "execution_count": null,
   "metadata": {
    "collapsed": true
   },
   "outputs": [],
   "source": [
    "my_list = [\"first\", \"second\", \"third\", 4, 12 * 3]\n",
    "[ str(x) for x in my_list ]"
   ]
  },
  {
   "cell_type": "markdown",
   "metadata": {},
   "source": [
    "Constructing a list this way is called _list comprehension_; there are other ways of constructing a list (\"procedurally\", that is, step by step) but they are usually less elegant and less readable.  We'll cover those later."
   ]
  },
  {
   "cell_type": "markdown",
   "metadata": {},
   "source": [
    "List comprehensions which simply apply a function to members of an existing list can be replaced by a call to `map`, which is a function which applies another function to all elements of a list.  (The origin of the term `map` is from the mathematical sense, not the geographical one.)"
   ]
  },
  {
   "cell_type": "code",
   "execution_count": null,
   "metadata": {
    "collapsed": true
   },
   "outputs": [],
   "source": [
    "my_list = [\"first\", \"second\", \"third\", 4, 12 * 3]\n",
    "map(str, my_list)"
   ]
  },
  {
   "cell_type": "markdown",
   "metadata": {},
   "source": [
    "Let's try using `map` twice, first to make a list of strings, then to make a list of the lengths of the strings:"
   ]
  },
  {
   "cell_type": "code",
   "execution_count": null,
   "metadata": {
    "collapsed": true
   },
   "outputs": [],
   "source": [
    "my_list = [\"first\", \"second\", \"third\", 4, 12 * 3]\n",
    "map(len, map(str, my_list))"
   ]
  },
  {
   "cell_type": "markdown",
   "metadata": {},
   "source": [
    "However, there's another feature to list comprehension that `map` can't do, which is filtering the list.  In this example, we'll use the _modulo_ (or _remainder_) operator, which is `%`, and we'll use it to make a list of the string forms of the input that have an even number of characters in them:"
   ]
  },
  {
   "cell_type": "code",
   "execution_count": null,
   "metadata": {
    "collapsed": true
   },
   "outputs": [],
   "source": [
    "my_list = [\"first\", \"second\", \"third\", 4, 12 * 3]\n",
    "[ str(x) for x in my_list if len(str(x)) %2 == 0]"
   ]
  },
  {
   "cell_type": "markdown",
   "metadata": {},
   "source": [
    "As well as being able to _map_ a single-input function over a list of inputs, we can also _reduce_ a list using a two-input function.  The function _reduce_ applies a two-input function to the first two items of the list, then to the result of that and the third item, and so on.  So, for example, we can get the length of the longest string in a list of strings, by _reducing_ the list of lengths with the function _max_, which gives the largest of its inputs:"
   ]
  },
  {
   "cell_type": "code",
   "execution_count": null,
   "metadata": {
    "collapsed": true
   },
   "outputs": [],
   "source": [
    "my_list = [\"first\", \"second\", \"third\", 4, 12 * 3]\n",
    "reduce(max, map(len, map(str, my_list)))"
   ]
  },
  {
   "cell_type": "markdown",
   "metadata": {},
   "source": [
    "Now we've reached something that would be a useful part of a real program: it's the calculation that you'd use to decide how wide to make a column in a table of data, for example in a spreadsheet program."
   ]
  },
  {
   "cell_type": "markdown",
   "metadata": {},
   "source": [
    "There are some more things we can do with lists, apart from _iterating_ over them (the computing term for handling each element in turn).  We can select a particular element by number; this is called _indexing_, and the number is the _index_ of the element.  We use square brackets after the list variable to tell Python that we want to index into the list.  The first item in a list has index `0`, not `1`:"
   ]
  },
  {
   "cell_type": "code",
   "execution_count": null,
   "metadata": {
    "collapsed": true
   },
   "outputs": [],
   "source": [
    "my_list = [\"first\", \"second\", \"third\", 4, 12 * 3]\n",
    "my_list[2]"
   ]
  },
  {
   "cell_type": "markdown",
   "metadata": {},
   "source": [
    "We can also get a series of consecutive elements from the list, as a new list.  This is called a _slice_ of the original list.  Note that the second index for the slice is just beyond the last element included in the slice (and so is the correct starting point for the next slice):"
   ]
  },
  {
   "cell_type": "code",
   "execution_count": null,
   "metadata": {
    "collapsed": true
   },
   "outputs": [],
   "source": [
    "my_list = [\"first\", \"second\", \"third\", 4, 12 * 3]\n",
    "my_list[1:4]"
   ]
  },
  {
   "cell_type": "markdown",
   "metadata": {},
   "source": [
    "We can also use negative numbers for the index; they count from the end of the list:"
   ]
  },
  {
   "cell_type": "code",
   "execution_count": null,
   "metadata": {
    "collapsed": true
   },
   "outputs": [],
   "source": [
    "my_list = [\"first\", \"second\", \"third\", 4, 12 * 3]\n",
    "my_list[1:-1]"
   ]
  },
  {
   "cell_type": "markdown",
   "metadata": {},
   "source": [
    "Just as we can put a value into a variable, we can put it into an element of a list:\n"
   ]
  },
  {
   "cell_type": "code",
   "execution_count": null,
   "metadata": {
    "collapsed": true
   },
   "outputs": [],
   "source": [
    "my_list = [\"first\", \"second\", \"third\", 4, 12 * 3]\n",
    "my_list[2] = \"something new\"\n",
    "my_list"
   ]
  },
  {
   "cell_type": "markdown",
   "metadata": {},
   "source": [
    "Before moving on from lists, we'll look a handy way of creating lists of consecutive numbers: the built-in function `range`.  First, try it with just one input, to produce a list with that number of items (remembering that in computing, it's usual to start counting at zero):"
   ]
  },
  {
   "cell_type": "code",
   "execution_count": null,
   "metadata": {
    "collapsed": true
   },
   "outputs": [],
   "source": [
    "range(12)"
   ]
  },
  {
   "cell_type": "markdown",
   "metadata": {},
   "source": [
    "With two inputs, you can specify the start as well as the limit of the range:"
   ]
  },
  {
   "cell_type": "code",
   "execution_count": null,
   "metadata": {
    "collapsed": true
   },
   "outputs": [],
   "source": [
    "range(2,6)"
   ]
  },
  {
   "cell_type": "markdown",
   "metadata": {},
   "source": [
    "And adding a third argument sets the step size:"
   ]
  },
  {
   "cell_type": "code",
   "execution_count": null,
   "metadata": {
    "collapsed": true
   },
   "outputs": [],
   "source": [
    "range(8, 24, 2)"
   ]
  },
  {
   "cell_type": "markdown",
   "metadata": {},
   "source": [
    "As well as using indexing and slicing on lists, we can also use them on strings:"
   ]
  },
  {
   "cell_type": "code",
   "execution_count": null,
   "metadata": {
    "collapsed": true
   },
   "outputs": [],
   "source": [
    "my_string = \"This is an example.\"\n",
    "my_string[2]"
   ]
  },
  {
   "cell_type": "code",
   "execution_count": null,
   "metadata": {
    "collapsed": true
   },
   "outputs": [],
   "source": [
    "my_string = \"This is an example.\"\n",
    "my_string[2:5]"
   ]
  },
  {
   "cell_type": "markdown",
   "metadata": {},
   "source": [
    "However, unlike with lists, we can't change the characters in the string once it's been created."
   ]
  },
  {
   "cell_type": "markdown",
   "metadata": {},
   "source": [
    "In the [next section](Python-as-FP-3-en.ipynb) we will look at another way of collecting data items together, the _dictionary_."
   ]
  }
 ],
 "metadata": {
  "kernelspec": {
   "display_name": "Python 2",
   "language": "python",
   "name": "python2"
  },
  "language_info": {
   "codemirror_mode": {
    "name": "ipython",
    "version": 2
   },
   "file_extension": ".py",
   "mimetype": "text/x-python",
   "name": "python",
   "nbconvert_exporter": "python",
   "pygments_lexer": "ipython2",
   "version": "2.7.14"
  }
 },
 "nbformat": 4,
 "nbformat_minor": 2
}
