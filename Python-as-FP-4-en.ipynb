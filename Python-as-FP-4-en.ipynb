{
 "cells": [
  {
   "cell_type": "markdown",
   "metadata": {},
   "source": [
    "In the previous sections, we've used some pre-defined functions that are provided as part of the Python system.  Now we will go on to look at how to define our own functions."
   ]
  },
  {
   "cell_type": "markdown",
   "metadata": {},
   "source": [
    "Python function definitions take more than one line of text, and in Python multi-line structures are made using _indentation_ (the number of spaces at the start of each line) to indicate the structure.  Function definitions begin with the keyword `def` at the start of the line, followed by the function name and then, in brackets, the names for the inputs to the function.  These inputs are called _parameters_ or _arguments_.  After that comes the _body_ of the function, which ends with an indication of what the function should _return_ to its _caller_.  (Using a function is termed _calling_ it.)  Here's a very simple example to start with:"
   ]
  },
  {
   "cell_type": "code",
   "execution_count": null,
   "metadata": {
    "collapsed": true
   },
   "outputs": [],
   "source": [
    "def squared(a):\n",
    "    return a * a"
   ]
  },
  {
   "cell_type": "markdown",
   "metadata": {},
   "source": [
    "In previous sections we saw that you can define variables, in the lines before where they are used.  You can do this inside function definitions, too.  Typically you'll do this where you need to use the same value more than once, to avoid recalculating it.  Here's a simple, and rather contrived, example:"
   ]
  },
  {
   "cell_type": "code",
   "execution_count": null,
   "metadata": {
    "collapsed": true
   },
   "outputs": [],
   "source": [
    "def difference_squared(x, y):\n",
    "    difference = x - y\n",
    "    return difference * difference"
   ]
  },
  {
   "cell_type": "markdown",
   "metadata": {},
   "source": [
    "Python allows you to put at the top of each function a string documenting what the function does.  This is called a _docstring_, and the Python system can extract the docstrings of functions:"
   ]
  },
  {
   "cell_type": "code",
   "execution_count": null,
   "metadata": {
    "collapsed": true
   },
   "outputs": [],
   "source": [
    "def difference_squared(x, y):\n",
    "    \"\"\"Return the square of the difference between the two inputs.\"\"\"\n",
    "    difference = x - y\n",
    "    return difference * difference\n",
    "difference_squared.__doc__"
   ]
  },
  {
   "cell_type": "markdown",
   "metadata": {},
   "source": [
    "The first section of this course mentioned that special internal symbols of the system begin and end with underscore characters; this is an example of that.  Also, you can see that following something with a dot (`.`) and then a name gets an _attribute_ of the first thing, that is named by the name after the dot.  Methods, such as `keys()` and `values()` for dictionaries, are attributes which are functions, but not all attributes have to be functions; in this case, the `__doc__` attribute, it is a string."
   ]
  }
 ],
 "metadata": {
  "kernelspec": {
   "display_name": "Python 2",
   "language": "python",
   "name": "python2"
  },
  "language_info": {
   "codemirror_mode": {
    "name": "ipython",
    "version": 2
   },
   "file_extension": ".py",
   "mimetype": "text/x-python",
   "name": "python",
   "nbconvert_exporter": "python",
   "pygments_lexer": "ipython2",
   "version": "2.7.14"
  }
 },
 "nbformat": 4,
 "nbformat_minor": 2
}
