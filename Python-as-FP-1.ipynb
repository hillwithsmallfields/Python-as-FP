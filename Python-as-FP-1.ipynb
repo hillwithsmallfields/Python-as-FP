{
 "cells": [
  {
   "cell_type": "markdown",
   "metadata": {},
   "source": [
    "This is an introduction to programming using the language Python.\n",
    "\n",
    "There are several styles (or \"paradigms\") for programming languages, and most languages let you use more than one.\n",
    "\n",
    "Python is mostly a _procedural programming language_, in which programs are made up from _procedures_, which are sequences of commands.\n",
    "\n",
    "To some extent it also supports _functional programming_, in which programs are made up from functions which return results for other functions to use.  Functional programming has many advantages, including clarity and conciseness, and much of the most advanced research on programming languages concentrates on it.  However, it's not purely for advanced programmers; spreadsheet formulae are also a form of functional programming.\n",
    "\n",
    "Python also supports _object-oriented programming_, which is popular but is not the panacea that many educators treat it as.\n",
    "\n",
    "In this tutorial, we will start with the \"functional\" side of Python, before moving on to the \"procedural\" and \"object-oriented\" aspects.  The idea of this is to make it more natural for you to think of the functional solution to a problem in preference to the procedural one, which will help you to write more elegant programs.\n",
    "\n",
    "Programming languages handle several kinds of data, of which the commonest are _numbers_, text (in the form of _strings_, which are sequences of characters), the truth values `True` and `False` (which in computing are called _Booleans_), and structures for grouping data together: _lists_ and _dictionaries_.\n",
    "\n",
    "A piece of computation producing some data as its result is called an _expression_.  Here are some simple numeric expressions to try:"
   ]
  },
  {
   "cell_type": "code",
   "execution_count": null,
   "metadata": {
    "collapsed": true
   },
   "outputs": [],
   "source": [
    "3 + 4"
   ]
  },
  {
   "cell_type": "code",
   "execution_count": null,
   "metadata": {
    "collapsed": true
   },
   "outputs": [],
   "source": [
    "3 + 4 * 5"
   ]
  },
  {
   "cell_type": "code",
   "execution_count": null,
   "metadata": {
    "collapsed": true
   },
   "outputs": [],
   "source": [
    "(3 + 4) * 5"
   ]
  },
  {
   "cell_type": "markdown",
   "metadata": {},
   "source": [
    "Note that sometimes you have to use brackets to indicate which operations to do first.  This is because the _operators_ (`+`, `*` etc) have precedence rules to say which bind mostly tightly."
   ]
  },
  {
   "cell_type": "markdown",
   "metadata": {},
   "source": [
    "Numeric expressions are not the only kind.  Let's try a simple string expression.  Python uses quote marks around a piece of text to show that it is a string rather than a piece of program code:"
   ]
  },
  {
   "cell_type": "code",
   "execution_count": null,
   "metadata": {
    "collapsed": true
   },
   "outputs": [],
   "source": [
    "\"hello\" + \" \" + \"world!\""
   ]
  },
  {
   "cell_type": "markdown",
   "metadata": {},
   "source": [
    "As you can see, either single or double quotes can be used to delimit a string.  I picked double quotes for the example, as that's most common in programming languages on the whole, but Python has used single quotes to show the result.  This way, if you want to include some quotes inside your string, just surround the string with the other kind of quote."
   ]
  },
  {
   "cell_type": "markdown",
   "metadata": {},
   "source": [
    "If you want to put both kinds of quote inside your string, or want the string to reach over several lines of text, you should put three of the same kind of quote at each end."
   ]
  },
  {
   "cell_type": "code",
   "execution_count": null,
   "metadata": {
    "collapsed": true
   },
   "outputs": [],
   "source": [
    "\"\"\"This is a longer string.\n",
    "It has some newlines inside it.\n",
    "Newlines can also be printed with backslash character followed by the letter 'n'.\n",
    "You can use strings like this to put a description at the top of a function.\n",
    "This will appear later in the course.\"\"\""
   ]
  },
  {
   "cell_type": "markdown",
   "metadata": {},
   "source": [
    "As well as using operators to make up an expression, we can use functions.  Python provides some built-in functions, such as `len` which returns the length of a string or list, and you can also define your own (which we'll do later).  And you can \"import\" packages of functions which other people have written."
   ]
  },
  {
   "cell_type": "code",
   "execution_count": null,
   "metadata": {
    "collapsed": true
   },
   "outputs": [],
   "source": [
    "len(\"hello\" + \" \" + \"world!\")"
   ]
  },
  {
   "cell_type": "markdown",
   "metadata": {},
   "source": [
    "The number you get for the result is the number of characters in the string.\n",
    "\n",
    "As you can see above, you can put expressions inside other expressions."
   ]
  },
  {
   "cell_type": "markdown",
   "metadata": {},
   "source": [
    "Let's try another of the basic types: _truth values_.  You can get these from comparisons:"
   ]
  },
  {
   "cell_type": "code",
   "execution_count": null,
   "metadata": {
    "collapsed": true
   },
   "outputs": [],
   "source": [
    "3 + 4 < 8"
   ]
  },
  {
   "cell_type": "code",
   "execution_count": null,
   "metadata": {
    "collapsed": true
   },
   "outputs": [],
   "source": [
    "4 * 5 < 12"
   ]
  },
  {
   "cell_type": "markdown",
   "metadata": {},
   "source": [
    "To compare for equality and difference, you use `==` and `!=` respectively.  Note that you can compare strings as well as numbers."
   ]
  },
  {
   "cell_type": "code",
   "execution_count": null,
   "metadata": {
    "collapsed": true
   },
   "outputs": [],
   "source": [
    "\"alpha\" + \"bet\" == \"alphabet\""
   ]
  },
  {
   "cell_type": "code",
   "execution_count": null,
   "metadata": {
    "collapsed": true
   },
   "outputs": [],
   "source": [
    "\"abu\" + \"gida\" != \"abugida\""
   ]
  },
  {
   "cell_type": "markdown",
   "metadata": {},
   "source": [
    "You can combine boolean expressions with `and`, `or`, and `not`."
   ]
  },
  {
   "cell_type": "code",
   "execution_count": null,
   "metadata": {
    "collapsed": true
   },
   "outputs": [],
   "source": [
    "\"alpha\" + \"bet\" == \"alphabet\" and not \"abu\" + \"gida\" != \"abugida\""
   ]
  },
  {
   "cell_type": "markdown",
   "metadata": {},
   "source": [
    "Python treats strings made of digits as being distinct from numbers.  You can use the built-in functions `str`, `int`, and `float` to convert between strings, integers and _floating point_ (fractional) numbers."
   ]
  },
  {
   "cell_type": "code",
   "execution_count": null,
   "metadata": {
    "collapsed": true
   },
   "outputs": [],
   "source": [
    "str(1 + 2)"
   ]
  },
  {
   "cell_type": "code",
   "execution_count": null,
   "metadata": {
    "collapsed": true
   },
   "outputs": [],
   "source": [
    "int(\"12\")"
   ]
  },
  {
   "cell_type": "code",
   "execution_count": null,
   "metadata": {
    "collapsed": true
   },
   "outputs": [],
   "source": [
    "float(\"12.34\")"
   ]
  },
  {
   "cell_type": "markdown",
   "metadata": {},
   "source": [
    "Now let's move on to grouping data together by making lists.  In fact, we've already seen a special case of lists: strings are lists of characters.  But Python shows them differently, although it makes similar facilities available for both, such as getting the length of them.  To make a _literal_ list (one that is built into the program) you use square brackets."
   ]
  },
  {
   "cell_type": "code",
   "execution_count": null,
   "metadata": {
    "collapsed": true
   },
   "outputs": [],
   "source": [
    "[\"first\", \"second\", \"third\", 4, 12 * 3]"
   ]
  },
  {
   "cell_type": "markdown",
   "metadata": {},
   "source": [
    "The length of a list is the number of items in it; any strings in the list each count as a single item, regardless of how many characters they contain:"
   ]
  },
  {
   "cell_type": "code",
   "execution_count": null,
   "metadata": {
    "collapsed": true
   },
   "outputs": [],
   "source": [
    "len([\"first\", \"second\", \"third\", 4, 12 * 3])"
   ]
  },
  {
   "cell_type": "markdown",
   "metadata": {},
   "source": [
    "As we present more of the language, the examples will get a bit more complicated, so before we do that, we'll look at something that can be used to make them easier to read (although that's not its only use): we can put data into named holders, called _variables_.  So let's retry the example above, but using a named variable called `my_list`.  When you give python several operations on successive lines of input, it will do them one after the other.  (This is the first _procedural_ feature of the language that we'll see.)"
   ]
  },
  {
   "cell_type": "code",
   "execution_count": null,
   "metadata": {
    "collapsed": true
   },
   "outputs": [],
   "source": [
    "my_list = [\"first\", \"second\", \"third\", 4, 12 * 3]\n",
    "len(my_list)"
   ]
  },
  {
   "cell_type": "markdown",
   "metadata": {},
   "source": [
    "We've seen the function `str`, to convert any other type of value into a string.  Now let's try constructing a list made of the string equivalents of all the elements of another list."
   ]
  },
  {
   "cell_type": "code",
   "execution_count": null,
   "metadata": {
    "collapsed": true
   },
   "outputs": [],
   "source": [
    "my_list = [\"first\", \"second\", \"third\", 4, 12 * 3]\n",
    "[ str(x) for x in my_list ]"
   ]
  },
  {
   "cell_type": "markdown",
   "metadata": {},
   "source": [
    "Constructing a list this way is called _list comprehension_; there are other ways of constructing a list (procedurally) but they are usually less elegant and less readable."
   ]
  },
  {
   "cell_type": "markdown",
   "metadata": {},
   "source": [
    "List comprehensions which simply apply a function to members of an existing list can be replaced by a call to `map`, which is a function which applies another function to all elements of a list.  (The origin of the term `map` is from the mathematical sense, not the geographical one.)"
   ]
  },
  {
   "cell_type": "code",
   "execution_count": null,
   "metadata": {
    "collapsed": true
   },
   "outputs": [],
   "source": [
    "my_list = [\"first\", \"second\", \"third\", 4, 12 * 3]\n",
    "map(str, my_list)"
   ]
  },
  {
   "cell_type": "markdown",
   "metadata": {},
   "source": [
    "Let's try using `map` twice, first to make a list of strings, then to make a list of the lengths of the strings:"
   ]
  },
  {
   "cell_type": "code",
   "execution_count": null,
   "metadata": {
    "collapsed": true
   },
   "outputs": [],
   "source": [
    "my_list = [\"first\", \"second\", \"third\", 4, 12 * 3]\n",
    "map(len, map(str, my_list))"
   ]
  },
  {
   "cell_type": "markdown",
   "metadata": {},
   "source": [
    "However, there's another feature to list comprehension that `map` can't do, which is filtering the list.  In this example, we'll use the _modulo_ (or _remainder_) operator, which is `%`, and we'll use it to make a list of the string forms of the input that have an even number of characters in them:"
   ]
  },
  {
   "cell_type": "code",
   "execution_count": null,
   "metadata": {
    "collapsed": true
   },
   "outputs": [],
   "source": [
    "my_list = [\"first\", \"second\", \"third\", 4, 12 * 3]\n",
    "[ str(x) for x in my_list if len(str(x)) %2 == 0]"
   ]
  },
  {
   "cell_type": "markdown",
   "metadata": {},
   "source": [
    "As well as being able to _map_ a single-input function over a list of inputs, we can also _reduce_ a list using a two-input function.  The function _reduce_ applies a two-input function to the first two items of the list, then to the result of that and the third item, and so on.  So, for example, we can get the length of the longest string in a list of strings, by _reducing_ the list of lengths with the function _max_, which gives the largest of its inputs:"
   ]
  },
  {
   "cell_type": "code",
   "execution_count": null,
   "metadata": {
    "collapsed": true
   },
   "outputs": [],
   "source": [
    "my_list = [\"first\", \"second\", \"third\", 4, 12 * 3]\n",
    "reduce(max, map(len, map(str, my_list)))"
   ]
  },
  {
   "cell_type": "markdown",
   "metadata": {},
   "source": [
    "Now we've reached something that would be a useful part of a real program: it's the calculation that you'd use to decide how wide to make a column in a table of data."
   ]
  }
 ],
 "metadata": {
  "kernelspec": {
   "display_name": "Python 2",
   "language": "python",
   "name": "python2"
  },
  "language_info": {
   "codemirror_mode": {
    "name": "ipython",
    "version": 2
   },
   "file_extension": ".py",
   "mimetype": "text/x-python",
   "name": "python",
   "nbconvert_exporter": "python",
   "pygments_lexer": "ipython2",
   "version": "2.7.14"
  }
 },
 "nbformat": 4,
 "nbformat_minor": 2
}
