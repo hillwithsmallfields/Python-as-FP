{
 "cells": [
  {
   "cell_type": "markdown",
   "metadata": {},
   "source": [
    "This is an introduction to programming using the language Python.\n",
    "\n",
    "There are several styles (or \"paradigms\") for programming languages, and most languages let you use more than one.\n",
    "\n",
    "Python is mostly a _procedural programming language_, in which programs are made up from _procedures_, which are sequences of commands causing actions.\n",
    "\n",
    "To some extent it also supports _functional programming_, in which programs are made up from functions which return results for other functions to use.  Functional programming has many advantages, including clarity and conciseness, and much of the most advanced research on programming languages concentrates on it.  However, it's not purely for advanced programmers; spreadsheet formulae are also a form of functional programming.\n",
    "\n",
    "Python also supports _object-oriented programming_, which is popular but is not the panacea that many educators treat it as.  You'll need it to make use of many of ready-written packages available in Python, but it's good to get a solid grounding in other parts of the language first.\n",
    "\n",
    "In this tutorial, we will start with the \"functional\" side of Python, before moving on to the \"procedural\" and \"object-oriented\" aspects.  The idea of this is to make it more natural for you to think of the functional solution to a problem in preference to the procedural one, which will help you to write more elegant programs.\n",
    "\n",
    "As well as the practical details of Python, we'll introduce some terms from Computer Science, partly to help you understand what other programmers are saying, and partly because if people have thought it worth giving a name to a concept, it's probably worth drawing attention to it as a specific concept."
   ]
  },
  {
   "cell_type": "markdown",
   "metadata": {},
   "source": [
    "Programming languages handle several kinds of data, of which the commonest are _numbers_, text (in the form of _strings_, which are sequences of characters), the truth values `True` and `False` (which in computing are called _Booleans_), and structures for grouping data together: _lists_ and _dictionaries_.\n",
    "\n",
    "A piece of computation producing some data as its result is called an _expression_.  Here are some simple numeric expressions to try:"
   ]
  },
  {
   "cell_type": "code",
   "execution_count": null,
   "metadata": {
    "collapsed": true
   },
   "outputs": [],
   "source": [
    "3 + 4"
   ]
  },
  {
   "cell_type": "code",
   "execution_count": null,
   "metadata": {
    "collapsed": true
   },
   "outputs": [],
   "source": [
    "3 + 4 * 5"
   ]
  },
  {
   "cell_type": "code",
   "execution_count": null,
   "metadata": {
    "collapsed": true
   },
   "outputs": [],
   "source": [
    "(3 + 4) * 5"
   ]
  },
  {
   "cell_type": "markdown",
   "metadata": {},
   "source": [
    "Note that sometimes you have to use brackets to indicate which operations to do first.  This is because the _operators_ (`+`, `*` etc) have precedence rules to say which bind mostly tightly.  You must use round brackets (parentheses) for this; the other types of brackets have other meanings in Python."
   ]
  },
  {
   "cell_type": "markdown",
   "metadata": {},
   "source": [
    "Numeric expressions are not the only kind.  Let's try a simple string expression, adding some strings together.  Python uses quote marks around a piece of text to show that it is a string rather than a piece of program code:"
   ]
  },
  {
   "cell_type": "code",
   "execution_count": null,
   "metadata": {
    "collapsed": true
   },
   "outputs": [],
   "source": [
    "\"hello\" + \" \" + \"world!\""
   ]
  },
  {
   "cell_type": "markdown",
   "metadata": {},
   "source": [
    "As you can see, either single or double quotes can be used to delimit a string.  I picked double quotes for the example, as that's most common in programming languages on the whole, but Python has used single quotes to show the result.  This way, if you want to include some quotes inside your string, just surround the string with the other kind of quote."
   ]
  },
  {
   "cell_type": "markdown",
   "metadata": {},
   "source": [
    "If you want to put both kinds of quote inside your string, or want the string to reach over several lines of text, you should put three of the same kind of quote at each end."
   ]
  },
  {
   "cell_type": "code",
   "execution_count": null,
   "metadata": {
    "collapsed": true
   },
   "outputs": [],
   "source": [
    "\"\"\"This is a longer string.\n",
    "It has some newlines inside it.\n",
    "Newlines can also be printed with backslash character followed by the letter 'n'.\n",
    "You can use strings like this to put a description at the top of a function.\n",
    "This will appear later in the course.\"\"\""
   ]
  },
  {
   "cell_type": "markdown",
   "metadata": {},
   "source": [
    "As well as adding strings (to concatenate them) we can multiply them by numbers to repeat them:"
   ]
  },
  {
   "cell_type": "code",
   "execution_count": null,
   "metadata": {
    "collapsed": true
   },
   "outputs": [],
   "source": [
    "\"hello \" * 3"
   ]
  },
  {
   "cell_type": "markdown",
   "metadata": {},
   "source": [
    "As well as using operators to make up an expression, we can use functions.  Python provides some built-in functions, such as `len` which returns the length of a string or list, and you can also define your own (which we'll do later).  And you can \"import\" packages of functions which other people have written."
   ]
  },
  {
   "cell_type": "code",
   "execution_count": null,
   "metadata": {
    "collapsed": true
   },
   "outputs": [],
   "source": [
    "len(\"hello\" + \" \" + \"world!\")"
   ]
  },
  {
   "cell_type": "markdown",
   "metadata": {},
   "source": [
    "The number you get for the result is the number of characters in the string.\n",
    "\n",
    "As you can see above, you can put expressions inside other expressions."
   ]
  },
  {
   "cell_type": "markdown",
   "metadata": {},
   "source": [
    "Let's try another of the basic types: _truth values_.  You can get these from comparisons:"
   ]
  },
  {
   "cell_type": "code",
   "execution_count": null,
   "metadata": {
    "collapsed": true
   },
   "outputs": [],
   "source": [
    "3 + 4 < 8"
   ]
  },
  {
   "cell_type": "code",
   "execution_count": null,
   "metadata": {
    "collapsed": true
   },
   "outputs": [],
   "source": [
    "4 * 5 < 12"
   ]
  },
  {
   "cell_type": "markdown",
   "metadata": {},
   "source": [
    "To compare for equality and difference, you use `==` and `!=` respectively.  Note that you can compare strings as well as numbers."
   ]
  },
  {
   "cell_type": "code",
   "execution_count": null,
   "metadata": {
    "collapsed": true
   },
   "outputs": [],
   "source": [
    "\"alpha\" + \"bet\" == \"alphabet\""
   ]
  },
  {
   "cell_type": "code",
   "execution_count": null,
   "metadata": {
    "collapsed": true
   },
   "outputs": [],
   "source": [
    "\"abu\" + \"gida\" != \"abugida\""
   ]
  },
  {
   "cell_type": "markdown",
   "metadata": {},
   "source": [
    "You can combine boolean expressions with `and`, `or`, and `not`."
   ]
  },
  {
   "cell_type": "code",
   "execution_count": null,
   "metadata": {
    "collapsed": true
   },
   "outputs": [],
   "source": [
    "\"alpha\" + \"bet\" == \"alphabet\" and not \"abu\" + \"gida\" != \"abugida\""
   ]
  },
  {
   "cell_type": "markdown",
   "metadata": {},
   "source": [
    "Python treats strings made of digits as being distinct from numbers.  You can use the built-in functions `str`, `int`, and `float` to convert between strings, integers and _floating point_ (fractional) numbers."
   ]
  },
  {
   "cell_type": "code",
   "execution_count": null,
   "metadata": {
    "collapsed": true
   },
   "outputs": [],
   "source": [
    "str(1 + 2)"
   ]
  },
  {
   "cell_type": "code",
   "execution_count": null,
   "metadata": {
    "collapsed": true
   },
   "outputs": [],
   "source": [
    "int(\"12\")"
   ]
  },
  {
   "cell_type": "code",
   "execution_count": null,
   "metadata": {
    "collapsed": true
   },
   "outputs": [],
   "source": [
    "float(\"12.34\")"
   ]
  },
  {
   "cell_type": "markdown",
   "metadata": {},
   "source": [
    "The numeric operators in Python are:\n",
    "<table>\n",
    "  <tr><th> `+`  </th><td> add </td></tr>\n",
    "  <tr><th> `-`  </th><td> subtract </td></tr>\n",
    "  <tr><th> `*`  </th><td> multiply </td></tr>\n",
    "  <tr><th> `/`  </th><td> divide </td></tr>\n",
    "  <tr><th> `%`  </th><td> remainder (modulo) </td></tr>\n",
    "  <tr><th> `**` </th><td> power (exponentiation) </td></tr>\n",
    "</table>\n",
    "As mentioned above,`+` may be used on strings, to join them together; and `*` may be used with a string and an integer, to make that number of copies of the string, all joined together into one string.  Using the same operator for operations on different types of data is called _operator overloading_."
   ]
  },
  {
   "cell_type": "markdown",
   "metadata": {},
   "source": [
    "The comparison operators are:\n",
    "<table>\n",
    " <tr><th> `==` </th><td> equal</td></tr>\n",
    "  <tr><th> `!=` </th><td> not equal</td></tr>\n",
    "  <tr><th> `<`  </th><td>  less than</td></tr>\n",
    "  <tr><th> `>`  </th><td>  greater than</td></tr>\n",
    "  <tr><th> `<=` </th><td> less than or equal to</td></tr>\n",
    "  <tr><th> `>=` </th><td> greater than or equal to</td></tr>\n",
    "</table>"
   ]
  },
  {
   "cell_type": "markdown",
   "metadata": {},
   "source": [
    "As well as working on numbers, the comparison operators work on strings, where _greater than_ means _later in the sorting (alphabetic) order_."
   ]
  },
  {
   "cell_type": "markdown",
   "metadata": {},
   "source": [
    "There are two more comparison operators, `is` and `is not`, but they are not relevant to numeric calculations."
   ]
  },
  {
   "cell_type": "markdown",
   "metadata": {},
   "source": [
    "The boolean operators are:\n",
    "<table>\n",
    "  <tr><th>`and`</th><td>and</td></tr>\n",
    "  <tr><th>`or`</th><td>_inclusive_ or: `a` or `b` or both</td></tr>\n",
    "  <tr><th>`^`</th><td>_exclusive_ or: `a` or `b` but not both</td></tr>\n",
    "  <tr><th>`not`</th></tr>\n",
    "</table>\n",
    "'Exclusive or' is sometimes written as 'xor', and pronounced 'exor'."
   ]
  },
  {
   "cell_type": "markdown",
   "metadata": {},
   "source": [
    "There's another operator that doesn't fit neatly into these categories, which takes three inputs (and so is sometimes called _the ternary operator_).  It provides a choice between two alternatives.  For example, we could choose the longer of two strings this way:"
   ]
  },
  {
   "cell_type": "code",
   "execution_count": null,
   "metadata": {
    "collapsed": true
   },
   "outputs": [],
   "source": [
    "a = \"a piece of text\"\n",
    "b = \"a longer piece of text\"\n",
    "a if len(a) > len(b) else b"
   ]
  },
  {
   "cell_type": "markdown",
   "metadata": {},
   "source": [
    "In the [next section](Python-as-FP-2-en.ipynb), we will start to look at data structures, that combine more than one piece of data.\n"
   ]
  }
 ],
 "metadata": {
  "kernelspec": {
   "display_name": "Python 2",
   "language": "python",
   "name": "python2"
  },
  "language_info": {
   "codemirror_mode": {
    "name": "ipython",
    "version": 2
   },
   "file_extension": ".py",
   "mimetype": "text/x-python",
   "name": "python",
   "nbconvert_exporter": "python",
   "pygments_lexer": "ipython2",
   "version": "2.7.14"
  }
 },
 "nbformat": 4,
 "nbformat_minor": 2
}
