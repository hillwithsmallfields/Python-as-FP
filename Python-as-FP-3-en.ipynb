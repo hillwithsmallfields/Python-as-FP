{
 "cells": [
  {
   "cell_type": "markdown",
   "metadata": {},
   "source": [
    "The remaining built-in type to look at at this stage is the _dictionary_.  A dictionary is a lookup table, which holds a collection of _key-value pairs_, each of which has a _key_ which you can search the dictionary for, and a _value_ corresponding to that key.  We write a dictionary literal (one which is part of the program) with curly brackets, but we still use square brackets for the lookup operation, like indexing in lists.  The items within the curly brackets come in pairs, with the first item in each pair being the key, and the second one the value.  There must be a colon character between a key and its value, and a comma between successive pairs.  (These syntactic details are common to a range of modern programming languages.)"
   ]
  },
  {
   "cell_type": "code",
   "execution_count": null,
   "metadata": {
    "collapsed": true
   },
   "outputs": [],
   "source": [
    "ruler_types = {\"Ivan\": \"Czar\", \"Julius Caesar\": \"Emperor\", \"Enver Hoxha\": \"Dictator\"}\n",
    "ruler_types[\"Julius Caesar\"]"
   ]
  },
  {
   "cell_type": "markdown",
   "metadata": {},
   "source": [
    "You can also use the operator `in` to see whether a dictionary holds a particular key:"
   ]
  },
  {
   "cell_type": "code",
   "execution_count": null,
   "metadata": {
    "collapsed": true
   },
   "outputs": [],
   "source": [
    "ruler_types = {\"Ivan\": \"Czar\", \"Julius Caesar\": \"Emperor\", \"Enver Hoxha\": \"Dictator\"}\n",
    "\"Elizabeth I\" in ruler_types"
   ]
  },
  {
   "cell_type": "markdown",
   "metadata": {},
   "source": [
    "To combine checking whether a dictionary contains a key, and looking the key up if it does but using another value if it doesn't, we can combine these using an _if_ expression:"
   ]
  },
  {
   "cell_type": "code",
   "execution_count": null,
   "metadata": {
    "collapsed": true
   },
   "outputs": [],
   "source": [
    "ruler_types = {\"Ivan\": \"Czar\", \"Julius Caesar\": \"Emperor\", \"Enver Hoxha\": \"Dictator\"}\n",
    "this_ruler = \"Ivan\"\n",
    "ruler_types[this_ruler] if this_ruler in ruler_types else \"Some other type of ruler\""
   ]
  },
  {
   "cell_type": "markdown",
   "metadata": {},
   "source": [
    "We can express this more concisely using a function called `get`.  `get` isn't an ordinary function, but is attached to the dictionary.  It is a _property_ of the dictionary, in Computer Science terms; and a property that is a function is called a _method_.  This is the first appearance of _object-oriented programming_ in this course; the dictionary is an _object_, and when we call a method of an object, that object is given as the first input to the method function."
   ]
  },
  {
   "cell_type": "code",
   "execution_count": null,
   "metadata": {
    "collapsed": true
   },
   "outputs": [],
   "source": [
    "ruler_types = {\"Ivan\": \"Czar\", \"Julius Caesar\": \"Emperor\", \"Enver Hoxha\": \"Dictator\"}\n",
    "this_ruler = \"Ivan\"\n",
    "ruler_types.get(this_ruler,  \"Some other type of ruler\")\n",
    "other_ruler = \"Elizabeth\"\n",
    "ruler_types.get(other_ruler, \"Some other type of ruler\")"
   ]
  },
  {
   "cell_type": "markdown",
   "metadata": {},
   "source": [
    "So we're using `get` as a function with two inputs, although there's an extra input behind the scenes, which is the dictionary we're using it for."
   ]
  },
  {
   "cell_type": "markdown",
   "metadata": {},
   "source": [
    "Just as we can construct lists using list comprehensions, we can construct dictionaries using dictionary comprehensions:"
   ]
  },
  {
   "cell_type": "code",
   "execution_count": null,
   "metadata": {
    "collapsed": true
   },
   "outputs": [],
   "source": [
    "{x*2: \"twice \"+str(x) for x in range(1,13)}"
   ]
  },
  {
   "cell_type": "markdown",
   "metadata": {},
   "source": [
    "Note that when you print a dictionary (convert it to text) the order of the pairs is random.  Unlike lists, dictionaries have no inherent order to them.\n",
    "\n",
    "To get the pairs in a dictionary in order, we must get a list of the keys of the dictionary, and sort that, then get the values for the keys.  You can get a list of the keys of a dictionary using a method called `keys()`, and make a sorted copy of the list using the built-in Python function `sorted(x)`"
   ]
  },
  {
   "cell_type": "code",
   "execution_count": null,
   "metadata": {
    "collapsed": true
   },
   "outputs": [],
   "source": [
    "ruler_types = {\"Ivan\": \"Czar\", \"Julius Caesar\": \"Emperor\", \"Enver Hoxha\": \"Dictator\"}\n",
    "ruler_types.keys()\n",
    "sorted(ruler_types.keys())"
   ]
  },
  {
   "cell_type": "markdown",
   "metadata": {},
   "source": [
    "As well as a list of the keys, we can get a list of the values:"
   ]
  },
  {
   "cell_type": "code",
   "execution_count": null,
   "metadata": {
    "collapsed": true
   },
   "outputs": [],
   "source": [
    "ruler_types = {\"Ivan\": \"Czar\", \"Julius Caesar\": \"Emperor\", \"Enver Hoxha\": \"Dictator\"}\n",
    "ruler_types.values()\n",
    "sorted(ruler_types.values())"
   ]
  },
  {
   "cell_type": "markdown",
   "metadata": {},
   "source": [
    "To do: iteritems()"
   ]
  }
 ],
 "metadata": {
  "kernelspec": {
   "display_name": "Python 2",
   "language": "python",
   "name": "python2"
  },
  "language_info": {
   "codemirror_mode": {
    "name": "ipython",
    "version": 2
   },
   "file_extension": ".py",
   "mimetype": "text/x-python",
   "name": "python",
   "nbconvert_exporter": "python",
   "pygments_lexer": "ipython2",
   "version": "2.7.14"
  }
 },
 "nbformat": 4,
 "nbformat_minor": 2
}
